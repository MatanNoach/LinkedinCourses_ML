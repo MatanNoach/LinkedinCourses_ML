{
 "cells": [
  {
   "cell_type": "markdown",
   "metadata": {},
   "source": [
    "# CART Algorithm\n",
    "\n",
    "### CART algorithm is a decision tree algorithm. The algorithm is based on the Gini coefficient and the concepts of Balance and Purity.\n",
    "\n",
    "The algorithm tries to perform a binary split by the purity and balance levels of each node if they were to split by a predictor.\n",
    "The algorithm tries to find the best predictor of each node and then splits it.\n",
    "*  The algorithm stops if reaches a certain purity level in each node."
   ]
  },
  {
   "cell_type": "code",
   "execution_count": 85,
   "metadata": {},
   "outputs": [
    {
     "name": "stdout",
     "output_type": "stream",
     "text": [
      "datasets\\titanic\\train.csv\n",
      "datasets\\titanic\\test.csv\n",
      "datasets\\titanic\\gender_submission.csv\n"
     ]
    }
   ],
   "source": [
    "from sklearn import tree\n",
    "from sklearn import preprocessing\n",
    "import matplotlib as plt\n",
    "import pandas as pd\n",
    "import numpy as np\n",
    "import os\n",
    "\n",
    "base_data_path = \"datasets\\\\\"\n",
    "titanic_train_path = os.path.join(base_data_path,\"titanic\\\\train.csv\")\n",
    "titanic_test_path = os.path.join(base_data_path,\"titanic\\\\test.csv\")\n",
    "titanic_test_results_path = os.path.join(base_data_path,\"titanic\\\\gender_submission.csv\")\n",
    "print(titanic_train_path)\n",
    "print(titanic_test_path)\n",
    "print(titanic_test_results_path)"
   ]
  },
  {
   "cell_type": "markdown",
   "metadata": {},
   "source": [
    "# The DataSet\n",
    "\n",
    "### The dataset contains data on the passangers from the titanic. The model goal is to predict who survived and who didn't their features.\n",
    "\n",
    "* Some featues are irrelevant and were removed. If you remove more featues, the model accuracy will be better but might result in overfitting.\n",
    "* You can play with the feautes to remove and see different results\n",
    "* The dataset is split to train, test and test results (which called gender_submission) \n",
    "* The data needs to go through a pipeline due to sklearn library limitations:\n",
    "\n",
    "    1.  The features can't be categorial so \"Embarked\" feature needs to be encoded and \"Sex\" feature needs to be transformed into one-hot-vector\n",
    "    2. The library can't handle NaN values, so every NaN row was dropped from the dataset (makes it harder to learn)"
   ]
  },
  {
   "cell_type": "code",
   "execution_count": 81,
   "metadata": {},
   "outputs": [
    {
     "name": "stdout",
     "output_type": "stream",
     "text": [
      "Data size before drop 891\n",
      "Data size after drop 714\n"
     ]
    },
    {
     "data": {
      "text/html": [
       "<div>\n",
       "<style scoped>\n",
       "    .dataframe tbody tr th:only-of-type {\n",
       "        vertical-align: middle;\n",
       "    }\n",
       "\n",
       "    .dataframe tbody tr th {\n",
       "        vertical-align: top;\n",
       "    }\n",
       "\n",
       "    .dataframe thead th {\n",
       "        text-align: right;\n",
       "    }\n",
       "</style>\n",
       "<table border=\"1\" class=\"dataframe\">\n",
       "  <thead>\n",
       "    <tr style=\"text-align: right;\">\n",
       "      <th></th>\n",
       "      <th>Pclass</th>\n",
       "      <th>Age</th>\n",
       "      <th>SibSp</th>\n",
       "      <th>Parch</th>\n",
       "      <th>Fare</th>\n",
       "      <th>Embarked</th>\n",
       "      <th>Sex</th>\n",
       "    </tr>\n",
       "  </thead>\n",
       "  <tbody>\n",
       "    <tr>\n",
       "      <th>0</th>\n",
       "      <td>3</td>\n",
       "      <td>22.0</td>\n",
       "      <td>1</td>\n",
       "      <td>0</td>\n",
       "      <td>7.2500</td>\n",
       "      <td>2</td>\n",
       "      <td>1</td>\n",
       "    </tr>\n",
       "    <tr>\n",
       "      <th>1</th>\n",
       "      <td>1</td>\n",
       "      <td>38.0</td>\n",
       "      <td>1</td>\n",
       "      <td>0</td>\n",
       "      <td>71.2833</td>\n",
       "      <td>0</td>\n",
       "      <td>0</td>\n",
       "    </tr>\n",
       "    <tr>\n",
       "      <th>2</th>\n",
       "      <td>3</td>\n",
       "      <td>26.0</td>\n",
       "      <td>0</td>\n",
       "      <td>0</td>\n",
       "      <td>7.9250</td>\n",
       "      <td>2</td>\n",
       "      <td>0</td>\n",
       "    </tr>\n",
       "    <tr>\n",
       "      <th>3</th>\n",
       "      <td>1</td>\n",
       "      <td>35.0</td>\n",
       "      <td>1</td>\n",
       "      <td>0</td>\n",
       "      <td>53.1000</td>\n",
       "      <td>2</td>\n",
       "      <td>0</td>\n",
       "    </tr>\n",
       "    <tr>\n",
       "      <th>4</th>\n",
       "      <td>3</td>\n",
       "      <td>35.0</td>\n",
       "      <td>0</td>\n",
       "      <td>0</td>\n",
       "      <td>8.0500</td>\n",
       "      <td>2</td>\n",
       "      <td>1</td>\n",
       "    </tr>\n",
       "    <tr>\n",
       "      <th>...</th>\n",
       "      <td>...</td>\n",
       "      <td>...</td>\n",
       "      <td>...</td>\n",
       "      <td>...</td>\n",
       "      <td>...</td>\n",
       "      <td>...</td>\n",
       "      <td>...</td>\n",
       "    </tr>\n",
       "    <tr>\n",
       "      <th>885</th>\n",
       "      <td>3</td>\n",
       "      <td>39.0</td>\n",
       "      <td>0</td>\n",
       "      <td>5</td>\n",
       "      <td>29.1250</td>\n",
       "      <td>1</td>\n",
       "      <td>0</td>\n",
       "    </tr>\n",
       "    <tr>\n",
       "      <th>886</th>\n",
       "      <td>2</td>\n",
       "      <td>27.0</td>\n",
       "      <td>0</td>\n",
       "      <td>0</td>\n",
       "      <td>13.0000</td>\n",
       "      <td>2</td>\n",
       "      <td>1</td>\n",
       "    </tr>\n",
       "    <tr>\n",
       "      <th>887</th>\n",
       "      <td>1</td>\n",
       "      <td>19.0</td>\n",
       "      <td>0</td>\n",
       "      <td>0</td>\n",
       "      <td>30.0000</td>\n",
       "      <td>2</td>\n",
       "      <td>0</td>\n",
       "    </tr>\n",
       "    <tr>\n",
       "      <th>889</th>\n",
       "      <td>1</td>\n",
       "      <td>26.0</td>\n",
       "      <td>0</td>\n",
       "      <td>0</td>\n",
       "      <td>30.0000</td>\n",
       "      <td>0</td>\n",
       "      <td>1</td>\n",
       "    </tr>\n",
       "    <tr>\n",
       "      <th>890</th>\n",
       "      <td>3</td>\n",
       "      <td>32.0</td>\n",
       "      <td>0</td>\n",
       "      <td>0</td>\n",
       "      <td>7.7500</td>\n",
       "      <td>1</td>\n",
       "      <td>1</td>\n",
       "    </tr>\n",
       "  </tbody>\n",
       "</table>\n",
       "<p>714 rows × 7 columns</p>\n",
       "</div>"
      ],
      "text/plain": [
       "     Pclass   Age  SibSp  Parch     Fare  Embarked  Sex\n",
       "0         3  22.0      1      0   7.2500         2    1\n",
       "1         1  38.0      1      0  71.2833         0    0\n",
       "2         3  26.0      0      0   7.9250         2    0\n",
       "3         1  35.0      1      0  53.1000         2    0\n",
       "4         3  35.0      0      0   8.0500         2    1\n",
       "..      ...   ...    ...    ...      ...       ...  ...\n",
       "885       3  39.0      0      5  29.1250         1    0\n",
       "886       2  27.0      0      0  13.0000         2    1\n",
       "887       1  19.0      0      0  30.0000         2    0\n",
       "889       1  26.0      0      0  30.0000         0    1\n",
       "890       3  32.0      0      0   7.7500         1    1\n",
       "\n",
       "[714 rows x 7 columns]"
      ]
     },
     "execution_count": 81,
     "metadata": {},
     "output_type": "execute_result"
    }
   ],
   "source": [
    "def data_pipeline(data):\n",
    "    # irrelavant_featues = ['PassengerId','Name','Ticket','Cabin','Pclass','Age','SibSp','Parch','Fare','Embarked']\n",
    "    irrelavant_featues = ['PassengerId','Name','Ticket','Cabin']\n",
    "    data = data.drop(irrelavant_featues,axis=1)\n",
    "    encoder_embarked = preprocessing.LabelEncoder()\n",
    "    encoder_embarked.fit(data['Embarked'])\n",
    "    encoded_embarked = encoder_embarked.transform(data['Embarked'])\n",
    "    data['Embarked'] = encoded_embarked\n",
    "    data = pd.get_dummies(data,drop_first=True,columns=['Sex'])\n",
    "    data = data.rename({\"Sex_male\":\"Sex\"},axis=1)\n",
    "    print(f\"Data size before drop {len(data)}\")\n",
    "    data = data.dropna(axis=0)\n",
    "    print(f\"Data size after drop {len(data)}\")\n",
    "    return data\n",
    "train_data = pd.read_csv(titanic_train_path)\n",
    "train_data = data_pipeline(train_data)\n",
    "Y = train_data.pop('Survived')\n",
    "train_data.head(n=len(train_data))"
   ]
  },
  {
   "cell_type": "markdown",
   "metadata": {},
   "source": [
    "# The Model\n",
    "\n",
    "### The model is a CART model that classifies who survived on the titanic.\n",
    "\n",
    "The model is built using sklearn.tree module, and it is a CART model since the criterion in \"gini\"."
   ]
  },
  {
   "cell_type": "code",
   "execution_count": 96,
   "metadata": {},
   "outputs": [],
   "source": [
    "# The gini criterion makes it a CART model\n",
    "cart_tree = tree.DecisionTreeClassifier(criterion='gini',max_depth=8)\n",
    "cart_tree = cart_tree.fit(train_data,Y)"
   ]
  },
  {
   "cell_type": "markdown",
   "metadata": {},
   "source": [
    "# Evaluation\n",
    "\n",
    "### The model is evaluated by performing the same data pipeline process on the test set, make prediction for every row, and then counts the success.\n",
    "\n",
    "It looks like the model didn't had very good accuracy with default parameters (74%). I have 2 assumptions:\n",
    "\n",
    "1. The train/test ration that was given was problematic for CART algorithm\n",
    "2. I lost some data due to NaN rows that were dropped\n",
    "3. The model was overfitted and needs to be tuned\n",
    "\n",
    "* After changing the max_depth to 8, it went up to 84% "
   ]
  },
  {
   "cell_type": "code",
   "execution_count": 97,
   "metadata": {},
   "outputs": [
    {
     "name": "stdout",
     "output_type": "stream",
     "text": [
      "Data size before drop 418\n",
      "Data size after drop 331\n",
      "accuracy = 84.59214501510573%\n"
     ]
    }
   ],
   "source": [
    "test_data = pd.read_csv(titanic_test_path)\n",
    "test_data = data_pipeline(test_data)\n",
    "test_real_values = pd.read_csv(titanic_test_results_path)\n",
    "test_real_values = np.array(test_real_values['Survived'])\n",
    "test_real_values = test_real_values[test_data.index]\n",
    "predictions = cart_tree.predict(test_data)\n",
    "results = np.array([x==y for (x,y) in zip(test_real_values,predictions)])\n",
    "hits = np.count_nonzero(results==True)\n",
    "print(f\"accuracy = {(hits/len(results))*100}%\")\n"
   ]
  },
  {
   "cell_type": "markdown",
   "metadata": {},
   "source": [
    "# Tree plot example"
   ]
  },
  {
   "cell_type": "code",
   "execution_count": 100,
   "metadata": {},
   "outputs": [
    {
     "data": {
      "text/plain": [
       "[Text(0.5, 0.8333333333333334, 'X[6] <= 0.5\\ngini = 0.482\\nsamples = 714\\nvalue = [424, 290]'),\n",
       " Text(0.25, 0.5, 'X[0] <= 2.5\\ngini = 0.37\\nsamples = 261\\nvalue = [64, 197]'),\n",
       " Text(0.125, 0.16666666666666666, '\\n  (...)  \\n'),\n",
       " Text(0.375, 0.16666666666666666, '\\n  (...)  \\n'),\n",
       " Text(0.75, 0.5, 'X[1] <= 6.5\\ngini = 0.326\\nsamples = 453\\nvalue = [360, 93]'),\n",
       " Text(0.625, 0.16666666666666666, '\\n  (...)  \\n'),\n",
       " Text(0.875, 0.16666666666666666, '\\n  (...)  \\n')]"
      ]
     },
     "execution_count": 100,
     "metadata": {},
     "output_type": "execute_result"
    },
    {
     "data": {
      "image/png": "[encoded data removed]",
      "text/plain": [
       "<Figure size 640x480 with 1 Axes>"
      ]
     },
     "metadata": {},
     "output_type": "display_data"
    }
   ],
   "source": [
    "tree.plot_tree(cart_tree,max_depth=1)"
   ]
  },
  {
   "cell_type": "code",
   "execution_count": null,
   "metadata": {},
   "outputs": [],
   "source": []
  }
 ],
 "metadata": {
  "kernelspec": {
   "display_name": "Python 3.10.6 ('venv': venv)",
   "language": "python",
   "name": "python3"
  },
  "language_info": {
   "codemirror_mode": {
    "name": "ipython",
    "version": 3
   },
   "file_extension": ".py",
   "mimetype": "text/x-python",
   "name": "python",
   "nbconvert_exporter": "python",
   "pygments_lexer": "ipython3",
   "version": "3.10.6"
  },
  "orig_nbformat": 4,
  "vscode": {
   "interpreter": {
    "hash": "cb3b791e6e2a984762e71b8e1d5c2e4f76d6e2d802b1b54be760d0133c847f87"
   }
  }
 },
 "nbformat": 4,
 "nbformat_minor": 2
}
