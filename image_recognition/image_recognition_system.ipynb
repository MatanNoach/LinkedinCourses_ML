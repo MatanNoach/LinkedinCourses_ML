{
 "cells": [
  {
   "cell_type": "markdown",
   "metadata": {},
   "source": [
    "# Image Recognition System\n",
    "\n",
    "### An image recognition system based on CNN. The system classifies 10 types of images from cifar10 dataset"
   ]
  },
  {
   "cell_type": "code",
   "execution_count": 48,
   "metadata": {},
   "outputs": [],
   "source": [
    "import numpy as np\n",
    "import tensorflow as tf\n",
    "from keras.datasets import cifar10\n",
    "import keras\n",
    "from keras.models import Sequential,model_from_json\n",
    "from keras.preprocessing import image\n",
    "from keras.layers import Dense,Dropout,Flatten,Conv2D,MaxPool2D\n",
    "from pathlib import Path\n",
    "\n",
    "cifar10_class_names = {\n",
    "    0:\"Plane\",\n",
    "    1:\"car\",\n",
    "    2:\"Bird\",\n",
    "    3:\"Cat\",\n",
    "    4:\"Deer\",\n",
    "    5:\"Dog\",\n",
    "    6:\"Frog\",\n",
    "    7:\"Horse\",\n",
    "    8:\"Boat\",\n",
    "    9:\"Truck\"\n",
    "}"
   ]
  },
  {
   "cell_type": "markdown",
   "metadata": {},
   "source": [
    "## Load the dataset"
   ]
  },
  {
   "cell_type": "code",
   "execution_count": 34,
   "metadata": {},
   "outputs": [],
   "source": [
    "(x_train, y_train), (x_test,y_test) = cifar10.load_data()"
   ]
  },
  {
   "cell_type": "code",
   "execution_count": 35,
   "metadata": {},
   "outputs": [],
   "source": [
    "# Normalize the data to float values between 0-1.\n",
    "# This improves the training process\n",
    "x_train = x_train.astype(\"float32\")\n",
    "x_test = x_test.astype(\"float32\")\n",
    "x_train = x_train/255\n",
    "x_test = x_test/255\n",
    "\n",
    "# Transform the labels to from single values to an array with 10 elements to match our CNN output\n",
    "y_train = keras.utils.to_categorical(y_train,10)\n",
    "y_test = keras.utils.to_categorical(y_test,10)\n"
   ]
  },
  {
   "cell_type": "markdown",
   "metadata": {},
   "source": [
    "## Building the model"
   ]
  },
  {
   "cell_type": "code",
   "execution_count": 36,
   "metadata": {},
   "outputs": [
    {
     "name": "stdout",
     "output_type": "stream",
     "text": [
      "Model: \"sequential_5\"\n",
      "_________________________________________________________________\n",
      " Layer (type)                Output Shape              Param #   \n",
      "=================================================================\n",
      " conv2d_20 (Conv2D)          (None, 32, 32, 32)        896       \n",
      "                                                                 \n",
      " conv2d_21 (Conv2D)          (None, 30, 30, 32)        9248      \n",
      "                                                                 \n",
      " max_pooling2d_7 (MaxPooling  (None, 15, 15, 32)       0         \n",
      " 2D)                                                             \n",
      "                                                                 \n",
      " dropout_9 (Dropout)         (None, 15, 15, 32)        0         \n",
      "                                                                 \n",
      " conv2d_22 (Conv2D)          (None, 15, 15, 64)        18496     \n",
      "                                                                 \n",
      " conv2d_23 (Conv2D)          (None, 13, 13, 64)        36928     \n",
      "                                                                 \n",
      " max_pooling2d_8 (MaxPooling  (None, 6, 6, 64)         0         \n",
      " 2D)                                                             \n",
      "                                                                 \n",
      " dropout_10 (Dropout)        (None, 6, 6, 64)          0         \n",
      "                                                                 \n",
      " flatten_5 (Flatten)         (None, 2304)              0         \n",
      "                                                                 \n",
      " dense_10 (Dense)            (None, 512)               1180160   \n",
      "                                                                 \n",
      " dropout_11 (Dropout)        (None, 512)               0         \n",
      "                                                                 \n",
      " dense_11 (Dense)            (None, 10)                5130      \n",
      "                                                                 \n",
      "=================================================================\n",
      "Total params: 1,250,858\n",
      "Trainable params: 1,250,858\n",
      "Non-trainable params: 0\n",
      "_________________________________________________________________\n"
     ]
    }
   ],
   "source": [
    "model = Sequential()\n",
    "\n",
    "model.add(Conv2D(32,(3,3),padding='same',activation='relu',input_shape=(32,32,3)))\n",
    "model.add(Conv2D(32,(3,3),activation='relu'))\n",
    "model.add(MaxPool2D(pool_size=(2,2)))\n",
    "model.add(Dropout(0.25))\n",
    "\n",
    "model.add(Conv2D(64,(3,3),padding='same',activation='relu'))\n",
    "model.add(Conv2D(64,(3,3),activation='relu'))\n",
    "model.add(MaxPool2D(pool_size=(2,2)))\n",
    "model.add(Dropout(0.25))\n",
    "\n",
    "model.add(Flatten())\n",
    "\n",
    "model.add(Dense(512,activation='relu',input_shape=(32,32,3)))\n",
    "model.add(Dropout(0.5))\n",
    "model.add(Dense(10,activation=\"softmax\"))\n",
    "\n",
    "model.compile(\n",
    "    loss=\"categorical_crossentropy\",\n",
    "    optimizer=\"Adam\",\n",
    "    metrics=[\"accuracy\"]\n",
    ")\n",
    "\n",
    "model.summary()\n"
   ]
  },
  {
   "cell_type": "markdown",
   "metadata": {},
   "source": [
    "## Training the model\n",
    "* NOTE - The last training process took about 54 minutes to complete. For that reason, I save the model for later use so I won't need to train it each time I work on this file "
   ]
  },
  {
   "cell_type": "code",
   "execution_count": 37,
   "metadata": {},
   "outputs": [
    {
     "name": "stdout",
     "output_type": "stream",
     "text": [
      "Epoch 1/30\n",
      "1563/1563 [==============================] - 114s 73ms/step - loss: 1.5195 - accuracy: 0.4463 - val_loss: 1.1459 - val_accuracy: 0.5945\n",
      "Epoch 2/30\n",
      "1563/1563 [==============================] - 112s 72ms/step - loss: 1.1013 - accuracy: 0.6121 - val_loss: 0.9367 - val_accuracy: 0.6670\n",
      "Epoch 3/30\n",
      "1563/1563 [==============================] - 113s 72ms/step - loss: 0.9468 - accuracy: 0.6665 - val_loss: 0.8551 - val_accuracy: 0.7019\n",
      "Epoch 4/30\n",
      "1563/1563 [==============================] - 110s 70ms/step - loss: 0.8611 - accuracy: 0.6974 - val_loss: 0.8714 - val_accuracy: 0.6996\n",
      "Epoch 5/30\n",
      "1563/1563 [==============================] - 109s 69ms/step - loss: 0.7976 - accuracy: 0.7207 - val_loss: 0.7467 - val_accuracy: 0.7432\n",
      "Epoch 6/30\n",
      "1563/1563 [==============================] - 114s 73ms/step - loss: 0.7425 - accuracy: 0.7400 - val_loss: 0.7593 - val_accuracy: 0.7378\n",
      "Epoch 7/30\n",
      "1563/1563 [==============================] - 109s 70ms/step - loss: 0.7053 - accuracy: 0.7511 - val_loss: 0.7063 - val_accuracy: 0.7536\n",
      "Epoch 8/30\n",
      "1563/1563 [==============================] - 108s 69ms/step - loss: 0.6702 - accuracy: 0.7643 - val_loss: 0.7157 - val_accuracy: 0.7526\n",
      "Epoch 9/30\n",
      "1563/1563 [==============================] - 108s 69ms/step - loss: 0.6442 - accuracy: 0.7740 - val_loss: 0.6791 - val_accuracy: 0.7661\n",
      "Epoch 10/30\n",
      "1563/1563 [==============================] - 109s 70ms/step - loss: 0.6185 - accuracy: 0.7821 - val_loss: 0.6664 - val_accuracy: 0.7688\n",
      "Epoch 11/30\n",
      "1563/1563 [==============================] - 110s 71ms/step - loss: 0.6007 - accuracy: 0.7871 - val_loss: 0.6530 - val_accuracy: 0.7778\n",
      "Epoch 12/30\n",
      "1563/1563 [==============================] - 110s 70ms/step - loss: 0.5761 - accuracy: 0.7969 - val_loss: 0.6848 - val_accuracy: 0.7694\n",
      "Epoch 13/30\n",
      "1563/1563 [==============================] - 108s 69ms/step - loss: 0.5560 - accuracy: 0.8037 - val_loss: 0.6544 - val_accuracy: 0.7808\n",
      "Epoch 14/30\n",
      "1563/1563 [==============================] - 108s 69ms/step - loss: 0.5497 - accuracy: 0.8064 - val_loss: 0.6779 - val_accuracy: 0.7679\n",
      "Epoch 15/30\n",
      "1563/1563 [==============================] - 109s 70ms/step - loss: 0.5336 - accuracy: 0.8112 - val_loss: 0.6367 - val_accuracy: 0.7889\n",
      "Epoch 16/30\n",
      "1563/1563 [==============================] - 109s 70ms/step - loss: 0.5154 - accuracy: 0.8186 - val_loss: 0.6755 - val_accuracy: 0.7805\n",
      "Epoch 17/30\n",
      "1563/1563 [==============================] - 109s 69ms/step - loss: 0.5040 - accuracy: 0.8228 - val_loss: 0.6652 - val_accuracy: 0.7812\n",
      "Epoch 18/30\n",
      "1563/1563 [==============================] - 109s 70ms/step - loss: 0.4972 - accuracy: 0.8243 - val_loss: 0.6517 - val_accuracy: 0.7853\n",
      "Epoch 19/30\n",
      "1563/1563 [==============================] - 111s 71ms/step - loss: 0.4822 - accuracy: 0.8313 - val_loss: 0.6398 - val_accuracy: 0.7901\n",
      "Epoch 20/30\n",
      "1563/1563 [==============================] - 109s 70ms/step - loss: 0.4750 - accuracy: 0.8331 - val_loss: 0.6432 - val_accuracy: 0.7970\n",
      "Epoch 21/30\n",
      "1563/1563 [==============================] - 111s 71ms/step - loss: 0.4721 - accuracy: 0.8346 - val_loss: 0.6915 - val_accuracy: 0.7813\n",
      "Epoch 22/30\n",
      "1563/1563 [==============================] - 111s 71ms/step - loss: 0.4641 - accuracy: 0.8375 - val_loss: 0.6508 - val_accuracy: 0.7914\n",
      "Epoch 23/30\n",
      "1563/1563 [==============================] - 108s 69ms/step - loss: 0.4524 - accuracy: 0.8423 - val_loss: 0.6697 - val_accuracy: 0.7840\n",
      "Epoch 24/30\n",
      "1563/1563 [==============================] - 108s 69ms/step - loss: 0.4490 - accuracy: 0.8435 - val_loss: 0.6589 - val_accuracy: 0.7923\n",
      "Epoch 25/30\n",
      "1563/1563 [==============================] - 108s 69ms/step - loss: 0.4409 - accuracy: 0.8467 - val_loss: 0.6586 - val_accuracy: 0.7857\n",
      "Epoch 26/30\n",
      "1563/1563 [==============================] - 110s 70ms/step - loss: 0.4356 - accuracy: 0.8463 - val_loss: 0.6654 - val_accuracy: 0.7899\n",
      "Epoch 27/30\n",
      "1563/1563 [==============================] - 109s 70ms/step - loss: 0.4272 - accuracy: 0.8493 - val_loss: 0.6735 - val_accuracy: 0.7880\n",
      "Epoch 28/30\n",
      "1563/1563 [==============================] - 108s 69ms/step - loss: 0.4184 - accuracy: 0.8534 - val_loss: 0.6446 - val_accuracy: 0.7940\n",
      "Epoch 29/30\n",
      "1563/1563 [==============================] - 110s 70ms/step - loss: 0.4168 - accuracy: 0.8567 - val_loss: 0.6875 - val_accuracy: 0.7873\n",
      "Epoch 30/30\n",
      "1563/1563 [==============================] - 109s 70ms/step - loss: 0.4135 - accuracy: 0.8562 - val_loss: 0.6687 - val_accuracy: 0.7935\n"
     ]
    },
    {
     "data": {
      "text/plain": [
       "<keras.callbacks.History at 0x1606debb550>"
      ]
     },
     "execution_count": 37,
     "metadata": {},
     "output_type": "execute_result"
    }
   ],
   "source": [
    "model.fit(x_train,y_train,batch_size=32,epochs=30,validation_data=(x_test,y_test),shuffle=True)"
   ]
  },
  {
   "cell_type": "markdown",
   "metadata": {},
   "source": [
    "## Save the model\n",
    "\n",
    "* The model is save in 2 file:\n",
    "    1) json file that describes the model's structure (i.e. layers and connections)\n",
    "    2) h5 file that saves the weights of the model after the training"
   ]
  },
  {
   "cell_type": "code",
   "execution_count": 42,
   "metadata": {},
   "outputs": [],
   "source": [
    "\n",
    "# Save the CNN structure in json\n",
    "model_structure = model.to_json()\n",
    "# Transform the file from json to text\n",
    "f = Path(\"model_structure.json\")\n",
    "f.write_text(model_structure)\n",
    "# Save the CNN weights\n",
    "model.save(\"model_weights.h5\",save_format=\"h5\")"
   ]
  },
  {
   "cell_type": "markdown",
   "metadata": {},
   "source": [
    "## Load the model"
   ]
  },
  {
   "cell_type": "code",
   "execution_count": 45,
   "metadata": {},
   "outputs": [],
   "source": [
    "# Read models structure\n",
    "f = Path(\"model_structure.json\")\n",
    "saved_model_structure = f.read_text()\n",
    "# Load model structure\n",
    "saved_model = model_from_json(saved_model_structure)\n",
    "# Load model weights\n",
    "saved_model.load_weights(\"model_weights.h5\")\n"
   ]
  },
  {
   "cell_type": "markdown",
   "metadata": {},
   "source": [
    "## Use the saved model for predictions"
   ]
  },
  {
   "cell_type": "code",
   "execution_count": 50,
   "metadata": {},
   "outputs": [
    {
     "name": "stdout",
     "output_type": "stream",
     "text": [
      "1/1 [==============================] - 0s 21ms/step\n"
     ]
    },
    {
     "data": {
      "text/plain": [
       "'Cat'"
      ]
     },
     "execution_count": 50,
     "metadata": {},
     "output_type": "execute_result"
    }
   ],
   "source": [
    "# Get an image\n",
    "img = keras.utils.load_img(\"cat.png\",target_size=(32,32))\n",
    "# Transofrm it to an array\n",
    "image_to_test = image.image_utils.img_to_array(img)/255\n",
    "# expand to list of images (that's how the model was trained)\n",
    "list_of_images = np.expand_dims(image_to_test,axis=0)\n",
    "# Get predictions\n",
    "results = model.predict(list_of_images)\n",
    "# Get only the first (we only have 1 image)\n",
    "image_result = results[0]\n",
    "# Get the result with the most likelihood\n",
    "most_likely = int(np.argmax(image_result))\n",
    "class_label = cifar10_class_names[most_likely]\n",
    "\n",
    "class_label"
   ]
  },
  {
   "cell_type": "code",
   "execution_count": null,
   "metadata": {},
   "outputs": [],
   "source": []
  }
 ],
 "metadata": {
  "kernelspec": {
   "display_name": "Python 3.10.7 ('venv': venv)",
   "language": "python",
   "name": "python3"
  },
  "language_info": {
   "codemirror_mode": {
    "name": "ipython",
    "version": 3
   },
   "file_extension": ".py",
   "mimetype": "text/x-python",
   "name": "python",
   "nbconvert_exporter": "python",
   "pygments_lexer": "ipython3",
   "version": "3.10.7"
  },
  "orig_nbformat": 4,
  "vscode": {
   "interpreter": {
    "hash": "4a68054a1377440dd3f78f1f273580d7335c2e20b564bc770fee5dc8903a7f04"
   }
  }
 },
 "nbformat": 4,
 "nbformat_minor": 2
}
