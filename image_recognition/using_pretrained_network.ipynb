{
 "cells": [
  {
   "cell_type": "markdown",
   "metadata": {},
   "source": [
    "# Using Pretrained Network\n",
    "\n",
    "### This is an example of how to load and use pretrained neural network for image recorgnition. This is called transfer learning"
   ]
  },
  {
   "cell_type": "code",
   "execution_count": 2,
   "metadata": {},
   "outputs": [],
   "source": [
    "import numpy as np\n",
    "import os\n",
    "from keras.preprocessing import image\n",
    "from keras.applications import vgg16\n",
    "import keras\n"
   ]
  },
  {
   "cell_type": "code",
   "execution_count": 4,
   "metadata": {},
   "outputs": [],
   "source": [
    "# Download the model for the first time and then loads the model\n",
    "model = vgg16.VGG16()\n"
   ]
  },
  {
   "cell_type": "code",
   "execution_count": 5,
   "metadata": {},
   "outputs": [
    {
     "name": "stdout",
     "output_type": "stream",
     "text": [
      "1/1 [==============================] - 0s 225ms/step\n",
      "Prediction - seashore - likelihood 0.395213\n",
      "Prediction - promontory - likelihood 0.326128\n",
      "Prediction - lakeside - likelihood 0.119613\n",
      "Prediction - breakwater - likelihood 0.062801\n",
      "Prediction - sandbar - likelihood 0.045267\n",
      "Prediction - cliff - likelihood 0.011845\n",
      "Prediction - dock - likelihood 0.009196\n",
      "Prediction - boathouse - likelihood 0.003278\n",
      "Prediction - valley - likelihood 0.003194\n"
     ]
    }
   ],
   "source": [
    "# Load the image\n",
    "img = keras.utils.load_img(\"bay.jpg\",target_size=(224,224))\n",
    "# Convert to array (2 dims)\n",
    "x = image.image_utils.img_to_array(img=img)\n",
    "# Convert to 1d array\n",
    "x = np.expand_dims(x,axis=0)\n",
    "# Perform preprocessing on the image\n",
    "x = vgg16.preprocess_input(x)\n",
    "# Predict - predictions is an array represents labels with likelihood for each label\n",
    "predictions = model.predict(x)\n",
    "# Decode the predictions and get the top 9 classes\n",
    "predicted_classes=vgg16.decode_predictions(predictions,top=9)\n",
    "# Print each class and its likelihood\n",
    "for imagenet_id,name,likelihood in predicted_classes[0]:\n",
    "    print(f\"Prediction - {name} - likelihood {likelihood:2f}\")"
   ]
  },
  {
   "cell_type": "code",
   "execution_count": null,
   "metadata": {},
   "outputs": [],
   "source": []
  }
 ],
 "metadata": {
  "kernelspec": {
   "display_name": "Python 3.10.7 ('venv': venv)",
   "language": "python",
   "name": "python3"
  },
  "language_info": {
   "codemirror_mode": {
    "name": "ipython",
    "version": 3
   },
   "file_extension": ".py",
   "mimetype": "text/x-python",
   "name": "python",
   "nbconvert_exporter": "python",
   "pygments_lexer": "ipython3",
   "version": "3.10.7"
  },
  "orig_nbformat": 4,
  "vscode": {
   "interpreter": {
    "hash": "4a68054a1377440dd3f78f1f273580d7335c2e20b564bc770fee5dc8903a7f04"
   }
  }
 },
 "nbformat": 4,
 "nbformat_minor": 2
}
