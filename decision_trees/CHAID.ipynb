{
 "cells": [
  {
   "cell_type": "markdown",
   "metadata": {},
   "source": [
    "# CHAID Algorithm\n",
    "\n",
    "### CHAID algorithm is a decision tree algorithm. The algorithm is based on CHi-squared statistics.\n",
    "\n",
    "The algorithm performs CHi-squared analysis for each variable in the dataset, and from highest value to lowest value, splits the data into subsets.\n",
    "\n",
    "After that, it performs the same process on the subset, and split it into subsets as well (while ignoring the previous featues that were chosen previously on the tree), until all festues have been chosen at some point, or until the subset predictors are the same.\n",
    "\n",
    "- Note - chefboost module does not have visualization feature right now so I coudln't draw the tree since it was too complicated with other tools.\n"
   ]
  },
  {
   "cell_type": "code",
   "execution_count": 1,
   "metadata": {},
   "outputs": [
    {
     "name": "stdout",
     "output_type": "stream",
     "text": [
      "datasets\\titanic\\train.csv\n",
      "datasets\\titanic\\test.csv\n",
      "datasets\\titanic\\gender_submission.csv\n"
     ]
    }
   ],
   "source": [
    "from chefboost import Chefboost as cb\n",
    "import pandas as pd\n",
    "import numpy as np\n",
    "import os\n",
    "\n",
    "base_data_path = \"datasets\\\\\"\n",
    "titanic_train_path = os.path.join(base_data_path, \"titanic\\\\train.csv\")\n",
    "titanic_test_path = os.path.join(base_data_path, \"titanic\\\\test.csv\")\n",
    "titanic_test_results_path = os.path.join(\n",
    "    base_data_path, \"titanic\\\\gender_submission.csv\")\n",
    "print(titanic_train_path)\n",
    "print(titanic_test_path)\n",
    "print(titanic_test_results_path)\n"
   ]
  },
  {
   "cell_type": "markdown",
   "metadata": {},
   "source": [
    "# The DataSet\n",
    "\n",
    "### The dataset contains data on the passangers from the titanic. The model goal is to predict who survived and who didn't their features.\n",
    "\n",
    "- Some featues are irrelevant and were removed. If you remove more featues, the model accuracy will be better but might result in overfitting.\n",
    "- You can play with the feautes to remove and see different results\n",
    "- The dataset is split to train, test and test results (which called gender_submission)\n"
   ]
  },
  {
   "cell_type": "code",
   "execution_count": 2,
   "metadata": {},
   "outputs": [
    {
     "data": {
      "text/html": [
       "<div>\n",
       "<style scoped>\n",
       "    .dataframe tbody tr th:only-of-type {\n",
       "        vertical-align: middle;\n",
       "    }\n",
       "\n",
       "    .dataframe tbody tr th {\n",
       "        vertical-align: top;\n",
       "    }\n",
       "\n",
       "    .dataframe thead th {\n",
       "        text-align: right;\n",
       "    }\n",
       "</style>\n",
       "<table border=\"1\" class=\"dataframe\">\n",
       "  <thead>\n",
       "    <tr style=\"text-align: right;\">\n",
       "      <th></th>\n",
       "      <th>Survived</th>\n",
       "      <th>Pclass</th>\n",
       "      <th>Sex</th>\n",
       "      <th>Age</th>\n",
       "      <th>SibSp</th>\n",
       "      <th>Parch</th>\n",
       "      <th>Fare</th>\n",
       "      <th>Embarked</th>\n",
       "    </tr>\n",
       "  </thead>\n",
       "  <tbody>\n",
       "    <tr>\n",
       "      <th>0</th>\n",
       "      <td>0</td>\n",
       "      <td>3</td>\n",
       "      <td>male</td>\n",
       "      <td>22.0</td>\n",
       "      <td>1</td>\n",
       "      <td>0</td>\n",
       "      <td>7.2500</td>\n",
       "      <td>S</td>\n",
       "    </tr>\n",
       "    <tr>\n",
       "      <th>1</th>\n",
       "      <td>1</td>\n",
       "      <td>1</td>\n",
       "      <td>female</td>\n",
       "      <td>38.0</td>\n",
       "      <td>1</td>\n",
       "      <td>0</td>\n",
       "      <td>71.2833</td>\n",
       "      <td>C</td>\n",
       "    </tr>\n",
       "    <tr>\n",
       "      <th>2</th>\n",
       "      <td>1</td>\n",
       "      <td>3</td>\n",
       "      <td>female</td>\n",
       "      <td>26.0</td>\n",
       "      <td>0</td>\n",
       "      <td>0</td>\n",
       "      <td>7.9250</td>\n",
       "      <td>S</td>\n",
       "    </tr>\n",
       "    <tr>\n",
       "      <th>3</th>\n",
       "      <td>1</td>\n",
       "      <td>1</td>\n",
       "      <td>female</td>\n",
       "      <td>35.0</td>\n",
       "      <td>1</td>\n",
       "      <td>0</td>\n",
       "      <td>53.1000</td>\n",
       "      <td>S</td>\n",
       "    </tr>\n",
       "    <tr>\n",
       "      <th>4</th>\n",
       "      <td>0</td>\n",
       "      <td>3</td>\n",
       "      <td>male</td>\n",
       "      <td>35.0</td>\n",
       "      <td>0</td>\n",
       "      <td>0</td>\n",
       "      <td>8.0500</td>\n",
       "      <td>S</td>\n",
       "    </tr>\n",
       "    <tr>\n",
       "      <th>5</th>\n",
       "      <td>0</td>\n",
       "      <td>3</td>\n",
       "      <td>male</td>\n",
       "      <td>NaN</td>\n",
       "      <td>0</td>\n",
       "      <td>0</td>\n",
       "      <td>8.4583</td>\n",
       "      <td>Q</td>\n",
       "    </tr>\n",
       "    <tr>\n",
       "      <th>6</th>\n",
       "      <td>0</td>\n",
       "      <td>1</td>\n",
       "      <td>male</td>\n",
       "      <td>54.0</td>\n",
       "      <td>0</td>\n",
       "      <td>0</td>\n",
       "      <td>51.8625</td>\n",
       "      <td>S</td>\n",
       "    </tr>\n",
       "    <tr>\n",
       "      <th>7</th>\n",
       "      <td>0</td>\n",
       "      <td>3</td>\n",
       "      <td>male</td>\n",
       "      <td>2.0</td>\n",
       "      <td>3</td>\n",
       "      <td>1</td>\n",
       "      <td>21.0750</td>\n",
       "      <td>S</td>\n",
       "    </tr>\n",
       "    <tr>\n",
       "      <th>8</th>\n",
       "      <td>1</td>\n",
       "      <td>3</td>\n",
       "      <td>female</td>\n",
       "      <td>27.0</td>\n",
       "      <td>0</td>\n",
       "      <td>2</td>\n",
       "      <td>11.1333</td>\n",
       "      <td>S</td>\n",
       "    </tr>\n",
       "    <tr>\n",
       "      <th>9</th>\n",
       "      <td>1</td>\n",
       "      <td>2</td>\n",
       "      <td>female</td>\n",
       "      <td>14.0</td>\n",
       "      <td>1</td>\n",
       "      <td>0</td>\n",
       "      <td>30.0708</td>\n",
       "      <td>C</td>\n",
       "    </tr>\n",
       "  </tbody>\n",
       "</table>\n",
       "</div>"
      ],
      "text/plain": [
       "  Survived  Pclass     Sex   Age  SibSp  Parch     Fare Embarked\n",
       "0        0       3    male  22.0      1      0   7.2500        S\n",
       "1        1       1  female  38.0      1      0  71.2833        C\n",
       "2        1       3  female  26.0      0      0   7.9250        S\n",
       "3        1       1  female  35.0      1      0  53.1000        S\n",
       "4        0       3    male  35.0      0      0   8.0500        S\n",
       "5        0       3    male   NaN      0      0   8.4583        Q\n",
       "6        0       1    male  54.0      0      0  51.8625        S\n",
       "7        0       3    male   2.0      3      1  21.0750        S\n",
       "8        1       3  female  27.0      0      2  11.1333        S\n",
       "9        1       2  female  14.0      1      0  30.0708        C"
      ]
     },
     "execution_count": 2,
     "metadata": {},
     "output_type": "execute_result"
    }
   ],
   "source": [
    "train_data = pd.read_csv(titanic_train_path)\n",
    "# irrelavant_featues = ['PassengerId','Name','Ticket','Cabin','Pclass','Age','SibSp','Parch','Fare','Embarked']\n",
    "irrelavant_featues = ['PassengerId', 'Name', 'Ticket', 'Cabin']\n",
    "train_data = train_data.drop(irrelavant_featues, axis=1)\n",
    "# Some casting was required for the chefboost module\n",
    "train_data['Survived'] = train_data['Survived'].astype(object)\n",
    "train_data.head(n=10)\n"
   ]
  },
  {
   "cell_type": "markdown",
   "metadata": {},
   "source": [
    "# The Model\n",
    "\n",
    "### The model is a basic CHAID model, that tries to predicted the people who survived on the titanic.\n",
    "\n",
    "- Note - The chefboost module is supposed to present the accuracy of the model, but for some reason it shows 0 (probably because of typing). For that reason, I created an evaluation process below\n"
   ]
  },
  {
   "cell_type": "code",
   "execution_count": 3,
   "metadata": {},
   "outputs": [
    {
     "name": "stdout",
     "output_type": "stream",
     "text": [
      "[INFO]:  2 CPU cores will be allocated in parallel running\n",
      "CHAID  tree is going to be built...\n",
      "-------------------------\n",
      "finished in  17.869871854782104  seconds\n",
      "-------------------------\n",
      "Evaluate  train set\n",
      "-------------------------\n",
      "Accuracy:  0.0 % on  891  instances\n",
      "Labels:  [0 1]\n",
      "Confusion matrix:  [[0, 0], [0, 0]]\n",
      "Precision:  0.0 %, Recall:  0.0 %, F1:  0.0 %\n"
     ]
    }
   ],
   "source": [
    "config = {'algorithm': \"CHAID\"}\n",
    "\n",
    "tree = cb.fit(train_data, config=config, target_label=\"Survived\")\n"
   ]
  },
  {
   "cell_type": "markdown",
   "metadata": {},
   "source": [
    "# Evaluation\n",
    "\n",
    "### The evaluation takes the test data, gets prediction from the model and compares it to the real data\n"
   ]
  },
  {
   "cell_type": "code",
   "execution_count": 4,
   "metadata": {},
   "outputs": [
    {
     "name": "stdout",
     "output_type": "stream",
     "text": [
      "accuracy = 89.95215311004785%\n"
     ]
    }
   ],
   "source": [
    "test_data = pd.read_csv(titanic_test_path)\n",
    "test_data = test_data.drop(irrelavant_featues, axis=1)\n",
    "test_real_values = pd.read_csv(titanic_test_results_path)\n",
    "count = 0\n",
    "for index, row in test_data.iterrows():\n",
    "    prediction = cb.predict(tree, row)\n",
    "    real_value = test_real_values.iloc[index]['Survived']\n",
    "    if int(prediction) == int(test_real_values.iloc[index]['Survived']):\n",
    "        count += 1\n",
    "print(f\"accuracy = {(count/len(test_data))*100}%\")\n"
   ]
  },
  {
   "cell_type": "code",
   "execution_count": null,
   "metadata": {},
   "outputs": [],
   "source": []
  }
 ],
 "metadata": {
  "kernelspec": {
   "display_name": "Python 3.10.7 ('venv': venv)",
   "language": "python",
   "name": "python3"
  },
  "language_info": {
   "codemirror_mode": {
    "name": "ipython",
    "version": 3
   },
   "file_extension": ".py",
   "mimetype": "text/x-python",
   "name": "python",
   "nbconvert_exporter": "python",
   "pygments_lexer": "ipython3",
   "version": "3.10.7"
  },
  "orig_nbformat": 4,
  "vscode": {
   "interpreter": {
    "hash": "4a68054a1377440dd3f78f1f273580d7335c2e20b564bc770fee5dc8903a7f04"
   }
  }
 },
 "nbformat": 4,
 "nbformat_minor": 2
}
