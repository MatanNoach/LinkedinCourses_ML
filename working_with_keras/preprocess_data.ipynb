{
 "cells": [
  {
   "cell_type": "code",
   "execution_count": 3,
   "metadata": {},
   "outputs": [],
   "source": [
    "import pandas as pd\n",
    "import os\n",
    "from sklearn.preprocessing import MinMaxScaler\n",
    "base_path = \"datasets\\\\03\"\n"
   ]
  },
  {
   "cell_type": "code",
   "execution_count": 4,
   "metadata": {},
   "outputs": [],
   "source": [
    "training_data_df = pd.read_csv(os.path.join(base_path,\"sales_data_training.csv\"))\n",
    "test_data_df = pd.read_csv(os.path.join(base_path,'sales_data_test.csv'))"
   ]
  },
  {
   "cell_type": "code",
   "execution_count": 6,
   "metadata": {},
   "outputs": [],
   "source": [
    "# Scaling all the numbers to be between 0 to 1\n",
    "scalar = MinMaxScaler(feature_range=(0,1))\n",
    "# Scaling the data after we fit the scaler to the data. The scaler will find the constants that are best for transforming the data\n",
    "scaled_training = scalar.fit_transform(training_data_df)\n",
    "# Scaling the data without fitting it first so it'll be scaled the same amount AS THE TRAINING DATA\n",
    "scaled_testing = scalar.transform(test_data_df)\n"
   ]
  },
  {
   "cell_type": "code",
   "execution_count": 12,
   "metadata": {},
   "outputs": [
    {
     "name": "stdout",
     "output_type": "stream",
     "text": [
      "The values were scaled by multiplying by 0.0000036968 and adding -0.115913\n"
     ]
    }
   ],
   "source": [
    "scaled_training_df = pd.DataFrame(scaled_training,columns=training_data_df.columns.values)\n",
    "scaled_testing_df = pd.DataFrame(scaled_testing,columns=test_data_df.columns.values)\n",
    "print(\"The values were scaled by multiplying by {:.10f} and adding {:.6f}\".format(scalar.scale_[8],scalar.min_[8]))"
   ]
  },
  {
   "cell_type": "code",
   "execution_count": 13,
   "metadata": {},
   "outputs": [],
   "source": [
    "scaled_testing_df.to_csv(os.path.join(base_path,\"sales_data_training_scaled.csv\"),index=False)\n",
    "scaled_testing_df.to_csv(os.path.join(base_path,\"sales_data_testing_scaled.csv\"),index=False)"
   ]
  },
  {
   "cell_type": "code",
   "execution_count": null,
   "metadata": {},
   "outputs": [],
   "source": []
  }
 ],
 "metadata": {
  "kernelspec": {
   "display_name": "Python 3.10.7 ('venv': venv)",
   "language": "python",
   "name": "python3"
  },
  "language_info": {
   "codemirror_mode": {
    "name": "ipython",
    "version": 3
   },
   "file_extension": ".py",
   "mimetype": "text/x-python",
   "name": "python",
   "nbconvert_exporter": "python",
   "pygments_lexer": "ipython3",
   "version": "3.10.7"
  },
  "orig_nbformat": 4,
  "vscode": {
   "interpreter": {
    "hash": "4a68054a1377440dd3f78f1f273580d7335c2e20b564bc770fee5dc8903a7f04"
   }
  }
 },
 "nbformat": 4,
 "nbformat_minor": 2
}
